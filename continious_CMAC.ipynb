{
 "cells": [
  {
   "cell_type": "code",
   "execution_count": 1,
   "id": "493e8f54-e8cf-453d-b61a-bd9af1b69a81",
   "metadata": {},
   "outputs": [],
   "source": [
    "import numpy as np\n",
    "import sys\n",
    "np.set_printoptions(threshold=sys.maxsize)\n",
    "import time\n",
    "convergence=False"
   ]
  },
  {
   "cell_type": "code",
   "execution_count": 2,
   "id": "d27fe15f-e91c-4d97-aed4-7aa798c3de98",
   "metadata": {},
   "outputs": [],
   "source": [
    "x=np.arange(0,100)/10\n",
    "y=np.square(x)"
   ]
  },
  {
   "cell_type": "code",
   "execution_count": 3,
   "id": "7bb94802-e494-45d7-a57b-fc74e2864c7a",
   "metadata": {},
   "outputs": [],
   "source": [
    "import matplotlib.pyplot as plt"
   ]
  },
  {
   "cell_type": "code",
   "execution_count": 4,
   "id": "38328723-843b-404d-aa84-8a82d801c52c",
   "metadata": {},
   "outputs": [
    {
     "data": {
      "text/plain": [
       "[<matplotlib.lines.Line2D at 0x7f6be590b580>]"
      ]
     },
     "execution_count": 4,
     "metadata": {},
     "output_type": "execute_result"
    },
    {
     "data": {
      "image/png": "[encoded data removed]",
      "text/plain": [
       "<Figure size 432x288 with 1 Axes>"
      ]
     },
     "metadata": {
      "needs_background": "light"
     },
     "output_type": "display_data"
    }
   ],
   "source": [
    "plt.plot(x,y)"
   ]
  },
  {
   "cell_type": "code",
   "execution_count": 5,
   "id": "60072512-bf3a-4b90-8d97-361e533a0203",
   "metadata": {},
   "outputs": [],
   "source": [
    "data=np.vstack([x,y]).T"
   ]
  },
  {
   "cell_type": "code",
   "execution_count": 6,
   "id": "4e36b130-8ad5-466a-929e-02f9d78c64b0",
   "metadata": {},
   "outputs": [
    {
     "data": {
      "text/plain": [
       "array([0., 0.])"
      ]
     },
     "execution_count": 6,
     "metadata": {},
     "output_type": "execute_result"
    }
   ],
   "source": [
    "data[0]"
   ]
  },
  {
   "cell_type": "code",
   "execution_count": 7,
   "id": "85e76901-5c7c-4926-9265-f46a69f5feed",
   "metadata": {},
   "outputs": [],
   "source": [
    "np.random.shuffle(data)"
   ]
  },
  {
   "cell_type": "code",
   "execution_count": 8,
   "id": "7061e378-35e9-431f-b276-291f0d760326",
   "metadata": {},
   "outputs": [],
   "source": [
    "data=data.T"
   ]
  },
  {
   "cell_type": "code",
   "execution_count": 9,
   "id": "98c195be-1605-4cf8-ac14-28421fa3404e",
   "metadata": {},
   "outputs": [
    {
     "data": {
      "text/plain": [
       "array([3.240e+00, 5.929e+01, 8.649e+01, 8.281e+01, 3.249e+01, 4.900e+01,\n",
       "       4.096e+01, 1.960e+00, 6.250e+00, 8.836e+01, 3.600e-01, 6.561e+01,\n",
       "       7.569e+01, 4.410e+00, 1.225e+01, 3.364e+01, 9.801e+01, 2.025e+01,\n",
       "       5.625e+01, 5.476e+01, 1.521e+01, 6.241e+01, 9.409e+01, 2.304e+01,\n",
       "       5.041e+01, 1.089e+01, 5.184e+01, 2.500e-01, 2.401e+01, 2.601e+01,\n",
       "       3.721e+01, 1.000e-02, 3.610e+00, 1.296e+01, 6.400e-01, 9.025e+01,\n",
       "       1.210e+00, 7.056e+01, 5.329e+01, 1.936e+01, 7.225e+01, 6.724e+01,\n",
       "       7.921e+01, 3.136e+01, 7.744e+01, 1.024e+01, 2.116e+01, 9.216e+01,\n",
       "       3.481e+01, 2.560e+00, 1.156e+01, 1.764e+01, 4.356e+01, 7.840e+00,\n",
       "       4.624e+01, 1.690e+00, 4.761e+01, 9.000e-02, 4.489e+01, 2.704e+01,\n",
       "       7.396e+01, 2.916e+01, 2.250e+00, 2.890e+00, 6.760e+00, 1.440e+00,\n",
       "       9.000e+00, 9.604e+01, 1.681e+01, 8.410e+00, 2.500e+01, 3.600e+01,\n",
       "       3.844e+01, 1.600e+01, 4.900e-01, 8.464e+01, 3.025e+01, 8.100e-01,\n",
       "       1.000e+00, 4.000e+00, 0.000e+00, 6.889e+01, 1.444e+01, 4.840e+00,\n",
       "       3.969e+01, 1.369e+01, 4.000e-02, 1.600e-01, 5.776e+01, 2.809e+01,\n",
       "       5.760e+00, 7.290e+00, 2.209e+01, 9.610e+00, 8.100e+01, 5.290e+00,\n",
       "       1.849e+01, 6.084e+01, 4.225e+01, 6.400e+01])"
      ]
     },
     "execution_count": 9,
     "metadata": {},
     "output_type": "execute_result"
    }
   ],
   "source": [
    "data[1]"
   ]
  },
  {
   "cell_type": "code",
   "execution_count": 10,
   "id": "44beb490-72ef-433f-8cb7-cf0b24818eb7",
   "metadata": {},
   "outputs": [],
   "source": [
    "#plt.plot(data[0],data[1])"
   ]
  },
  {
   "cell_type": "code",
   "execution_count": 11,
   "id": "e2db340f-23a5-496b-bc07-54a3a385360c",
   "metadata": {},
   "outputs": [],
   "source": [
    "weights=35\n",
    "generalization_factor=[i for i in range(weights)]"
   ]
  },
  {
   "cell_type": "code",
   "execution_count": null,
   "id": "3fe301a9-ff00-495f-8c3d-b0a852d7a171",
   "metadata": {},
   "outputs": [],
   "source": []
  },
  {
   "cell_type": "code",
   "execution_count": null,
   "id": "fc192d3b-db07-4d74-ac4a-a414a6013b6a",
   "metadata": {},
   "outputs": [],
   "source": []
  },
  {
   "cell_type": "code",
   "execution_count": null,
   "id": "ac3b1711-b682-4519-9d42-8fc264e666d8",
   "metadata": {},
   "outputs": [],
   "source": []
  },
  {
   "cell_type": "code",
   "execution_count": null,
   "id": "7747a915-8df9-4c0d-a737-ac35cd127d8b",
   "metadata": {},
   "outputs": [],
   "source": [
    "\n",
    "    "
   ]
  },
  {
   "cell_type": "code",
   "execution_count": 12,
   "id": "829bbfd9-a938-4a9e-9b18-23702acd6fc3",
   "metadata": {},
   "outputs": [],
   "source": [
    "class Model():\n",
    "    def __init__(self,data,g):\n",
    "        self.weights=np.ones((35,1))\n",
    "        self.gen_factor=g\n",
    "        self.x=data[0]\n",
    "        self.y=data[1]\n",
    "        \n",
    "        self.min=0\n",
    "        self.max=10\n",
    "        self.weights_no=35\n",
    "        self.lr=0.001\n",
    "        self.total_loss=0\n",
    "        self.total_prev_loss=0\n",
    "        self.prev_loss=0\n",
    "        self.total_loss=0\n",
    "        self.dict_for_A={}\n",
    "        self.ypred_list=[]\n",
    "        self.len_of_val=100\n",
    "        #self.y_=x[1]\n",
    "        \n",
    "        self.epochs=10000\n",
    "        #print([i for i in self.x])\n",
    "        #self.trial=int(np.floor((no_vector)*((i-self.min)/(self.min-self.max))))\n",
    "        self.mapping=self.mapping_fn(self.gen_factor)#np.zeros((35,100))\n",
    "\n",
    "\n",
    "    def mapping_fn(self,gn):\n",
    "        no_vector=self.weights_no-self.gen_factor+1\n",
    "        mapp=np.zeros((no_vector,self.weights_no))\n",
    "        for i in self.x:\n",
    "            #print(i)\n",
    "            # if(i<self.min):\n",
    "            #     index=0\n",
    "            #     #index=(no_vector)*((i-self.min)/(self.min-self.max))\n",
    "            #     mapp[:,index:index+self.gen_factor]=1\n",
    "            #     #return mapp\n",
    "            # if(i>self.max):\n",
    "            #     index=34-self.gen_factor\n",
    "            #     #index=(no_vector)*((i-self.min)/(self.min-self.max))\n",
    "            #     #print('0')\n",
    "            #     mapp[:,index:index+self.gen_factor]=1\n",
    "            #     #return mapp\n",
    "            # else:\n",
    "            if self.gen_factor%2==1:\n",
    "                x=np.linspace(0.1,1,self.gen_factor)\n",
    "                x[int((len(x)+1)/2 ):]=np.flip(x[:int((len(x)+1)/2)-1])\n",
    "                index=int(np.floor((no_vector)*((i-self.min)/(self.max-self.min))))\n",
    "                #print(index)\n",
    "                self.dict_for_A[i]=index\n",
    "                mapp[index,index:index+self.gen_factor]=x\n",
    "            else:\n",
    "                x=np.linspace(0.1,1,self.gen_factor)\n",
    "                x[int((len(x))/2 ):]=np.flip(x[:int((len(x))/2)])\n",
    "                index=int(np.floor((no_vector)*((i-self.min)/(self.max-self.min))))\n",
    "                #print(index)\n",
    "                self.dict_for_A[i]=index\n",
    "                mapp[index,index:index+self.gen_factor]=x\n",
    "        return mapp\n",
    "    def predict(self,x_A):\n",
    "        #self.x_A_trail=x_A\n",
    "        return x_A@self.weights\n",
    "    \n",
    "    def loss_fn(self,y_train,y_pred):\n",
    "        #print(y_train)\n",
    "        return y_train- y_pred\n",
    "    \n",
    "    def backprop(self,x,loss):\n",
    "        weights=self.weights.copy()\n",
    "        self.trail_type=type(weights)\n",
    "        if len(weights.shape)==2:\n",
    "        \n",
    "            weights=np.reshape(weights,(weights.shape[0]))\n",
    "        #print('shape_a_x- ',x.shape)\n",
    "        #print('shape_weights- ',weights.shape)\n",
    "        self.weights_trial=weights*self.lr\n",
    "        \n",
    "        self.trial_loss=loss \n",
    "        weights= weights+loss*weights*x*self.lr \n",
    "        weights=np.reshape(weights,self.weights.shape)\n",
    "        self.weights=weights\n",
    "        #return weights \n",
    "    \n",
    "    def val_step(self,x,y):\n",
    "        weights=self.weights\n",
    "        \n",
    "        y_pred=self.predict(x)\n",
    "        self.ypred_list_v.append(y_pred)\n",
    "        self.ypred_list.append(y_pred)\n",
    "        loss=self.loss_fn(y,y_pred)\n",
    "        self.total_loss+=loss\n",
    "    def train_step(self,x,y):\n",
    "        \n",
    "        weights=self.weights\n",
    "        y_pred=self.predict(x)\n",
    "        self.ypred_list.append(y_pred)\n",
    "        #print(y_pred)\n",
    "        loss=self.loss_fn(y,y_pred)\n",
    "        #self.total_loss+=loss\n",
    "        self.backprop(x,loss)\n",
    "\n",
    "    def fit(self):\n",
    "        start=time.time()       \n",
    "        epochs=self.epochs\n",
    "        for e in range(epochs):\n",
    "            self.ypred_list_v=[]\n",
    "            self.total_prev_loss=self.total_loss\n",
    "            self.total_loss=0\n",
    "            self.ypred_list=[]\n",
    "            for ip,op in zip(data[0,:70],data[1,:70]):\n",
    "                #print(op)\n",
    "                x_train=self.dict_for_A[ip]\n",
    "                x_train=self.mapping[x_train,:]\n",
    "                #self.trial=x_train\n",
    "                #y_train=self.dict_for_A[op]\n",
    "                y_train=op\n",
    "                #print(y_train)\n",
    "                self.train_step(x_train,y_train)\n",
    "            for ip,op in zip(data[0,70:],data[1,70:]):\n",
    "                x_train=self.dict_for_A[ip]\n",
    "                x_train=self.mapping[x_train,:]\n",
    "                #y_train=self.dict_for_A[op]\n",
    "                y_train=op\n",
    "                self.val_step(x_train,y_train)\n",
    "                \n",
    "            # if self.is_converged():\n",
    "            #     print('converge',self.gen_factor)\n",
    "            #     self.total_time=time.time()-start\n",
    "            #     break\n",
    "                \n",
    "        error=self.error(np.array(self.ypred_list_v),data[1,70:])\n",
    "        #print('epoch:',e,' accuracy =',1-(error)) \n",
    "    def is_converged(self):\n",
    "        if np.abs(self.total_prev_loss-self.total_loss)<0.00001:\n",
    "            return True \n",
    "        else:\n",
    "            return False\n",
    "    def error(self,y_pred,y_act):\n",
    "        y_pred=y_pred.reshape(30)\n",
    "        sub=np.subtract(y_pred,y_act)\n",
    "        #sqr=np.abs(sub)\n",
    " \n",
    "        sqr=np.square(sub)\n",
    "        #self.y_p=y_pred\n",
    "        #self.y_a=data[1]\n",
    "        \n",
    "        error=np.sum(sqr)\n",
    "\n",
    "        total_error=np.sqrt(error)/self.len_of_val\n",
    "        #self.sub=total_error\n",
    "        return total_error"
   ]
  },
  {
   "cell_type": "code",
   "execution_count": 15,
   "id": "cc77d1a8-10dd-4f71-919d-417048f799b3",
   "metadata": {
    "tags": []
   },
   "outputs": [
    {
     "ename": "AttributeError",
     "evalue": "'Model' object has no attribute 'total_time'",
     "output_type": "error",
     "traceback": [
      "\u001b[0;31m---------------------------------------------------------------------------\u001b[0m",
      "\u001b[0;31mAttributeError\u001b[0m                            Traceback (most recent call last)",
      "\u001b[0;32m/tmp/ipykernel_26072/4218132424.py\u001b[0m in \u001b[0;36m<module>\u001b[0;34m\u001b[0m\n\u001b[1;32m      8\u001b[0m         \u001b[0mmodel\u001b[0m\u001b[0;34m.\u001b[0m\u001b[0mfit\u001b[0m\u001b[0;34m(\u001b[0m\u001b[0;34m)\u001b[0m\u001b[0;34m\u001b[0m\u001b[0;34m\u001b[0m\u001b[0m\n\u001b[1;32m      9\u001b[0m         \u001b[0mlist_of_models\u001b[0m\u001b[0;34m.\u001b[0m\u001b[0mappend\u001b[0m\u001b[0;34m(\u001b[0m\u001b[0mmodel\u001b[0m\u001b[0;34m)\u001b[0m\u001b[0;34m\u001b[0m\u001b[0;34m\u001b[0m\u001b[0m\n\u001b[0;32m---> 10\u001b[0;31m     \u001b[0mlist_converge_time\u001b[0m\u001b[0;34m=\u001b[0m\u001b[0;34m[\u001b[0m\u001b[0mi\u001b[0m\u001b[0;34m.\u001b[0m\u001b[0mtotal_time\u001b[0m \u001b[0;32mfor\u001b[0m \u001b[0mi\u001b[0m \u001b[0;32min\u001b[0m \u001b[0mlist_of_models\u001b[0m\u001b[0;34m]\u001b[0m\u001b[0;34m\u001b[0m\u001b[0;34m\u001b[0m\u001b[0m\n\u001b[0m\u001b[1;32m     11\u001b[0m     \u001b[0mlist_gn\u001b[0m\u001b[0;34m=\u001b[0m\u001b[0;34m[\u001b[0m\u001b[0mi\u001b[0m\u001b[0;34m.\u001b[0m\u001b[0mgen_factor\u001b[0m \u001b[0;32mfor\u001b[0m \u001b[0mi\u001b[0m \u001b[0;32min\u001b[0m \u001b[0mlist_of_models\u001b[0m\u001b[0;34m]\u001b[0m\u001b[0;34m\u001b[0m\u001b[0;34m\u001b[0m\u001b[0m\n\u001b[1;32m     12\u001b[0m     \u001b[0mplt\u001b[0m\u001b[0;34m.\u001b[0m\u001b[0mplot\u001b[0m\u001b[0;34m(\u001b[0m\u001b[0mlist_gn\u001b[0m\u001b[0;34m,\u001b[0m\u001b[0mlist_converge_time\u001b[0m\u001b[0;34m)\u001b[0m\u001b[0;34m\u001b[0m\u001b[0;34m\u001b[0m\u001b[0m\n",
      "\u001b[0;32m/tmp/ipykernel_26072/4218132424.py\u001b[0m in \u001b[0;36m<listcomp>\u001b[0;34m(.0)\u001b[0m\n\u001b[1;32m      8\u001b[0m         \u001b[0mmodel\u001b[0m\u001b[0;34m.\u001b[0m\u001b[0mfit\u001b[0m\u001b[0;34m(\u001b[0m\u001b[0;34m)\u001b[0m\u001b[0;34m\u001b[0m\u001b[0;34m\u001b[0m\u001b[0m\n\u001b[1;32m      9\u001b[0m         \u001b[0mlist_of_models\u001b[0m\u001b[0;34m.\u001b[0m\u001b[0mappend\u001b[0m\u001b[0;34m(\u001b[0m\u001b[0mmodel\u001b[0m\u001b[0;34m)\u001b[0m\u001b[0;34m\u001b[0m\u001b[0;34m\u001b[0m\u001b[0m\n\u001b[0;32m---> 10\u001b[0;31m     \u001b[0mlist_converge_time\u001b[0m\u001b[0;34m=\u001b[0m\u001b[0;34m[\u001b[0m\u001b[0mi\u001b[0m\u001b[0;34m.\u001b[0m\u001b[0mtotal_time\u001b[0m \u001b[0;32mfor\u001b[0m \u001b[0mi\u001b[0m \u001b[0;32min\u001b[0m \u001b[0mlist_of_models\u001b[0m\u001b[0;34m]\u001b[0m\u001b[0;34m\u001b[0m\u001b[0;34m\u001b[0m\u001b[0m\n\u001b[0m\u001b[1;32m     11\u001b[0m     \u001b[0mlist_gn\u001b[0m\u001b[0;34m=\u001b[0m\u001b[0;34m[\u001b[0m\u001b[0mi\u001b[0m\u001b[0;34m.\u001b[0m\u001b[0mgen_factor\u001b[0m \u001b[0;32mfor\u001b[0m \u001b[0mi\u001b[0m \u001b[0;32min\u001b[0m \u001b[0mlist_of_models\u001b[0m\u001b[0;34m]\u001b[0m\u001b[0;34m\u001b[0m\u001b[0;34m\u001b[0m\u001b[0m\n\u001b[1;32m     12\u001b[0m     \u001b[0mplt\u001b[0m\u001b[0;34m.\u001b[0m\u001b[0mplot\u001b[0m\u001b[0;34m(\u001b[0m\u001b[0mlist_gn\u001b[0m\u001b[0;34m,\u001b[0m\u001b[0mlist_converge_time\u001b[0m\u001b[0;34m)\u001b[0m\u001b[0;34m\u001b[0m\u001b[0;34m\u001b[0m\u001b[0m\n",
      "\u001b[0;31mAttributeError\u001b[0m: 'Model' object has no attribute 'total_time'"
     ]
    }
   ],
   "source": [
    "list_of_models=[]\n",
    "convergence=True\n",
    "if convergence:\n",
    "#for gn in range(1):#generalization_factor:\n",
    "    for gn in generalization_factor:\n",
    "        model=Model(data,gn)\n",
    "        #model=Model(data,gn)\n",
    "        model.fit()\n",
    "        list_of_models.append(model)\n",
    "    list_converge_time=[i.total_time for i in list_of_models]\n",
    "    list_gn=[i.gen_factor for i in list_of_models]\n",
    "    plt.plot(list_gn,list_converge_time)\n",
    "    plt.plot(list_gn,list_converge_time,label='dis_cmac')\n",
    "    #plt.plot(list_cn_2,gn_1,label='cont_cmac')\n",
    "    plt.legend()\n",
    "    plt.show()\n",
    "else:\n",
    "    model=Model(data,gn=5)\n",
    "    model.fit()\n",
    "    x1=np.array(model.ypred_list).reshape(100)\n",
    "    data_pred=np.vstack([data[0],x1])\n",
    "\n",
    "    data1=data_pred.copy().T\n",
    "    data1=data1[(data1[:,0]).argsort()]\n",
    "    data1=data1.T\n",
    "    plt.plot(data1[0],data1[1],label='dis_cmac')\n",
    "    plt.show()\n",
    "#model.trial_loss\n",
    "#model.x[1]\n",
    "#model.mapping.shape\n",
    "#print(model.mapping)\n",
    "#data[0,:70]\n",
    "#model.trial_loss\n",
    "#model.x[1]\n",
    "#model.mapping.shape\n",
    "#print(model.mapping)\n",
    "#data[0,:70]"
   ]
  },
  {
   "cell_type": "code",
   "execution_count": null,
   "id": "8dfbbab2-a056-44cf-8753-44be6c549cf5",
   "metadata": {},
   "outputs": [],
   "source": [
    "list_converge_time=[i.total_time for i in list_of_models]\n",
    "list_gn=[i.gen_factor for i in list_of_models]\n",
    "plt.plot(list_gn,list_converge_time)"
   ]
  },
  {
   "cell_type": "code",
   "execution_count": null,
   "id": "946cf2a8-39fa-4733-aa21-85576ea6937e",
   "metadata": {},
   "outputs": [],
   "source": [
    "print(list_converge_time)\n",
    "print(list_gn)"
   ]
  },
  {
   "cell_type": "code",
   "execution_count": null,
   "id": "2dce61a1-fbe9-4fd9-8c47-22a8d92e77e7",
   "metadata": {},
   "outputs": [],
   "source": [
    "x1=np.array(model.ypred_list).reshape(100)\n",
    "data_pred=np.vstack([data[0],x1])\n",
    "\n",
    "data1=data_pred.copy().T\n",
    "\n",
    "data1=data1[(data1[:,0]).argsort()]\n",
    "data1=data1.T"
   ]
  },
  {
   "cell_type": "code",
   "execution_count": null,
   "id": "f87bf151-e0c3-4270-8aac-93b6eae1ddae",
   "metadata": {},
   "outputs": [],
   "source": [
    "data1.shape"
   ]
  },
  {
   "cell_type": "code",
   "execution_count": null,
   "id": "b781516b-4d1a-4f7b-be48-7c4087f1e962",
   "metadata": {},
   "outputs": [],
   "source": [
    "plt.plot(data1[0],data1[1])"
   ]
  },
  {
   "cell_type": "code",
   "execution_count": null,
   "id": "7ae390fb-d16f-4971-bdaa-ae0cb00fbc4b",
   "metadata": {},
   "outputs": [],
   "source": [
    "data_pred=np.vstack([data[0],x])\n",
    "\n",
    "data_t=data.copy().T\n",
    "data_t=data_t[(data1[:,0]).argsort()]\n",
    "data_t=data_t.T\n",
    "plt.plot(data1[0],data1[1])"
   ]
  },
  {
   "cell_type": "code",
   "execution_count": null,
   "id": "f646e650-2cad-4905-b911-47dede13014f",
   "metadata": {},
   "outputs": [],
   "source": [
    "plt.plot(x,y,label='Dataset')\n",
    "plt.plot(data1[0],data1[1],label='Continious_CMSC')\n",
    "plt.legend()"
   ]
  },
  {
   "cell_type": "code",
   "execution_count": null,
   "id": "97070a24-530e-40e1-b838-d7630ddc3ea9",
   "metadata": {},
   "outputs": [],
   "source": [
    "min_=0\n",
    "max_=99\n",
    "no_vector=7\n",
    "index=int(np.floor((no_vector)*((i-min_)/(min_-max_))))"
   ]
  },
  {
   "cell_type": "code",
   "execution_count": null,
   "id": "23b85c10-020d-4730-82e2-ebdfb84a86ee",
   "metadata": {},
   "outputs": [],
   "source": [
    "zss={}\n",
    "zss[0]=1\n",
    "zss[1]=2\n",
    "zss"
   ]
  },
  {
   "cell_type": "code",
   "execution_count": null,
   "id": "c427bdaa-d6cd-4a8e-8965-a6ab4961cf43",
   "metadata": {},
   "outputs": [],
   "source": [
    "x[0]=1\n",
    "#z[1]=1\n",
    "#y[2]=1\n",
    "data1=data.copy().T\n",
    "data1=data1[(data1[:,1]).argsort()]\n",
    "data1=data.T"
   ]
  },
  {
   "cell_type": "code",
   "execution_count": null,
   "id": "dfed25c2-0db3-4463-821c-5e91c8efbf5c",
   "metadata": {},
   "outputs": [],
   "source": [
    "arr = np.array([[-0.30565392, -0.96605562],\n",
    "                [ 0.85331367, -2.62963495],\n",
    "                [ 0.87839643, -0.28283675],\n",
    "                [ 0.72676698,  0.93213482],\n",
    "                [-0.52007354,  0.27752806],\n",
    "                [-0.08701666,  0.22764316],\n",
    "                [-1.78897817,  0.50737573],\n",
    "                [ 0.62260038, -1.96012161],\n",
    "                [-1.98231706,  0.36523876],\n",
    "                [-1.07587382, -2.3022289 ]])"
   ]
  },
  {
   "cell_type": "code",
   "execution_count": null,
   "id": "a76703ae-4497-418e-9327-70b34d1f3b08",
   "metadata": {},
   "outputs": [],
   "source": [
    "data[0].reshape((1,len(data[0])))"
   ]
  },
  {
   "cell_type": "code",
   "execution_count": null,
   "id": "13e432d5-1333-4a3d-a4c4-6fdea7910894",
   "metadata": {},
   "outputs": [],
   "source": [
    "y=np.ones(3)\n",
    "x=np.zeros(3)\n",
    "x[2]=1\n",
    "y.shape"
   ]
  },
  {
   "cell_type": "code",
   "execution_count": null,
   "id": "47941f15-b79a-42e1-8377-831f7b7bc47a",
   "metadata": {},
   "outputs": [],
   "source": [
    "y[:2]=[1,1]"
   ]
  },
  {
   "cell_type": "code",
   "execution_count": null,
   "id": "cf84e5df-8a4d-47ae-84ff-33aa6cbfb8a1",
   "metadata": {},
   "outputs": [],
   "source": [
    "import scipy.ndimage as sp\n",
    "sp.gaussian_filter1d(np.linspace(0,1,5),sigma=1)"
   ]
  },
  {
   "cell_type": "code",
   "execution_count": null,
   "id": "19618c45-5ba9-41a1-86a0-616e7a5e1a9c",
   "metadata": {},
   "outputs": [],
   "source": [
    "import numpy as np\n",
    "   \n",
    "def gkern(l=5, sig=1.):\n",
    "    \"\"\"\\\n",
    "    creates gaussian kernel with side length `l` and a sigma of `sig`\n",
    "    \"\"\"\n",
    "    #ax = np.linspace(-(l - 1) / 2., (l - 1) / 2., l)\n",
    "    gauss = np.exp(-0.5 * np.square(ax) / np.square(sig))\n",
    "    kernel = np.outer(gauss, gauss)\n",
    "    return kernel / np.sum(kernel)\n",
    "#gkern()\n",
    "x=np.linspace(0.1,1,5)\n",
    "x[int((len(x)+1)/2 ):]=np.flip(x[:int((len(x)+1)/2)-1])"
   ]
  },
  {
   "cell_type": "code",
   "execution_count": null,
   "id": "ede48df1-7348-4975-900e-c6d8c1035007",
   "metadata": {},
   "outputs": [],
   "source": [
    "x=np.linspace(0.1,1,4)\n",
    "x[int((len(x))/2 ):]=np.flip(x[:int((len(x))/2)])\n",
    "x"
   ]
  },
  {
   "cell_type": "code",
   "execution_count": null,
   "id": "dcba4db2-8d7f-402d-b7c0-86637a98eb18",
   "metadata": {},
   "outputs": [],
   "source": [
    "x[:int((len(x))/2)]"
   ]
  },
  {
   "cell_type": "code",
   "execution_count": null,
   "id": "c26c9c5b-2502-4405-8c7c-217caf9dcdfe",
   "metadata": {},
   "outputs": [],
   "source": [
    "mapping=np.zeros((35,100))"
   ]
  },
  {
   "cell_type": "code",
   "execution_count": null,
   "id": "2824d9af-80d0-409c-8699-9b62e1220ee7",
   "metadata": {},
   "outputs": [],
   "source": [
    "mapping.shape"
   ]
  },
  {
   "cell_type": "code",
   "execution_count": null,
   "id": "1e74e04b-f837-4e05-994a-23ff011b392e",
   "metadata": {},
   "outputs": [],
   "source": [
    "mapping[:,0].shape"
   ]
  },
  {
   "cell_type": "code",
   "execution_count": null,
   "id": "dd559bb0-3647-478f-8f65-ed341877c6a6",
   "metadata": {},
   "outputs": [],
   "source": [
    "   index=int(np.floor((no_vector)*((i-self.min)/(self.min-self.max))))\n",
    "                self.dict_for_A[i]=index\n",
    "                mapp[index,index:index+self.gen_factor]=1\n",
    "no_vec=7-3+1\n",
    "mapp=np.zeros((5,7))\n",
    "for i in range(0,10):\n",
    "\n",
    "    index=int(np.floor((no_vec)*((i)/(10))))\n",
    "    mapp[index,index:index+3]=1"
   ]
  },
  {
   "cell_type": "code",
   "execution_count": null,
   "id": "b4d270e4-69b5-495c-bdb7-f84b95f9cef0",
   "metadata": {},
   "outputs": [],
   "source": [
    "mapp"
   ]
  },
  {
   "cell_type": "code",
   "execution_count": null,
   "id": "1a425ee1-367a-415d-be53-b59498cc1b82",
   "metadata": {},
   "outputs": [],
   "source": [
    "for i,j in zip(data[0],data[1]):\n",
    "    print(i,j)"
   ]
  },
  {
   "cell_type": "code",
   "execution_count": null,
   "id": "b8ee1186-a433-4b5d-8c56-3b7fa34e141a",
   "metadata": {},
   "outputs": [],
   "source": [
    "data"
   ]
  },
  {
   "cell_type": "code",
   "execution_count": null,
   "id": "798470c9-61d9-4db7-b4f2-a349f129a637",
   "metadata": {},
   "outputs": [],
   "source": []
  }
 ],
 "metadata": {
  "kernelspec": {
   "display_name": "Python 3 (ipykernel)",
   "language": "python",
   "name": "python3"
  },
  "language_info": {
   "codemirror_mode": {
    "name": "ipython",
    "version": 3
   },
   "file_extension": ".py",
   "mimetype": "text/x-python",
   "name": "python",
   "nbconvert_exporter": "python",
   "pygments_lexer": "ipython3",
   "version": "3.8.10"
  }
 },
 "nbformat": 4,
 "nbformat_minor": 5
}
