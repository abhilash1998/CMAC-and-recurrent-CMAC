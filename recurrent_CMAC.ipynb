{
 "cells": [
  {
   "cell_type": "code",
   "execution_count": 1,
   "id": "493e8f54-e8cf-453d-b61a-bd9af1b69a81",
   "metadata": {},
   "outputs": [],
   "source": [
    "import numpy as np\n",
    "import sys\n",
    "np.set_printoptions(threshold=sys.maxsize)\n"
   ]
  },
  {
   "cell_type": "code",
   "execution_count": 123,
   "id": "d27fe15f-e91c-4d97-aed4-7aa798c3de98",
   "metadata": {},
   "outputs": [],
   "source": [
    "x=np.arange(0,100)/10\n",
    "y=np.square(x)"
   ]
  },
  {
   "cell_type": "code",
   "execution_count": 121,
   "id": "7bb94802-e494-45d7-a57b-fc74e2864c7a",
   "metadata": {},
   "outputs": [],
   "source": [
    "import matplotlib.pyplot as plt"
   ]
  },
  {
   "cell_type": "code",
   "execution_count": 45,
   "id": "38328723-843b-404d-aa84-8a82d801c52c",
   "metadata": {},
   "outputs": [
    {
     "data": {
      "image/png": "[encoded data removed]",
      "text/plain": [
       "<Figure size 432x288 with 1 Axes>"
      ]
     },
     "metadata": {
      "needs_background": "light"
     },
     "output_type": "display_data"
    }
   ],
   "source": [
    "plt.plot(x,y)\n",
    "y1=y\n",
    "y1[0]=0\n",
    "y1[1:]=y[:99]"
   ]
  },
  {
   "cell_type": "code",
   "execution_count": 46,
   "id": "60072512-bf3a-4b90-8d97-361e533a0203",
   "metadata": {},
   "outputs": [],
   "source": [
    "data=np.vstack([x,y,y1]).T\n"
   ]
  },
  {
   "cell_type": "code",
   "execution_count": 47,
   "id": "4e36b130-8ad5-466a-929e-02f9d78c64b0",
   "metadata": {},
   "outputs": [],
   "source": [
    "#data.shape"
   ]
  },
  {
   "cell_type": "code",
   "execution_count": 48,
   "id": "85e76901-5c7c-4926-9265-f46a69f5feed",
   "metadata": {},
   "outputs": [],
   "source": [
    "np.random.shuffle(data)"
   ]
  },
  {
   "cell_type": "code",
   "execution_count": 49,
   "id": "7061e378-35e9-431f-b276-291f0d760326",
   "metadata": {},
   "outputs": [],
   "source": [
    "data=data.T"
   ]
  },
  {
   "cell_type": "code",
   "execution_count": 50,
   "id": "98c195be-1605-4cf8-ac14-28421fa3404e",
   "metadata": {},
   "outputs": [],
   "source": [
    "#data.shape"
   ]
  },
  {
   "cell_type": "code",
   "execution_count": 51,
   "id": "44beb490-72ef-433f-8cb7-cf0b24818eb7",
   "metadata": {},
   "outputs": [],
   "source": [
    "#plt.plot(data[0],data[1])"
   ]
  },
  {
   "cell_type": "code",
   "execution_count": 52,
   "id": "e2db340f-23a5-496b-bc07-54a3a385360c",
   "metadata": {},
   "outputs": [],
   "source": [
    "weights=35\n",
    "generalization_factor=[i for i in range(weights)]"
   ]
  },
  {
   "cell_type": "code",
   "execution_count": null,
   "id": "3fe301a9-ff00-495f-8c3d-b0a852d7a171",
   "metadata": {},
   "outputs": [],
   "source": []
  },
  {
   "cell_type": "code",
   "execution_count": null,
   "id": "fc192d3b-db07-4d74-ac4a-a414a6013b6a",
   "metadata": {},
   "outputs": [],
   "source": []
  },
  {
   "cell_type": "code",
   "execution_count": null,
   "id": "ac3b1711-b682-4519-9d42-8fc264e666d8",
   "metadata": {},
   "outputs": [],
   "source": []
  },
  {
   "cell_type": "code",
   "execution_count": null,
   "id": "7747a915-8df9-4c0d-a737-ac35cd127d8b",
   "metadata": {},
   "outputs": [],
   "source": [
    "\n",
    "    "
   ]
  },
  {
   "cell_type": "code",
   "execution_count": 109,
   "id": "829bbfd9-a938-4a9e-9b18-23702acd6fc3",
   "metadata": {},
   "outputs": [],
   "source": [
    "\n",
    "class Model():\n",
    "    def __init__(self,data):\n",
    "        self.prev_op_for_ip=0\n",
    "        self.weights_x=np.ones((35,1))\n",
    "        self.weights_y=np.ones((35,1))\n",
    "        self.gen_factor=5\n",
    "        self.x=data[0]\n",
    "        self.y=data[1]\n",
    "        self.y1=data[2]\n",
    "        \n",
    "        self.min_x=0\n",
    "        self.max_x=10\n",
    "        self.min_y=min(self.y)\n",
    "        self.max_y=100\n",
    "        \n",
    "        self.weights_no=35\n",
    "        self.lr=0.001\n",
    "        self.total_loss=0\n",
    "        self.total_prev_loss=0\n",
    "        self.prev_loss=0\n",
    "        self.total_loss=0\n",
    "        #self.dict_for_A_x={}\n",
    "        #self.dict_for_A_y={}\n",
    "        \n",
    "        self.ypred_list=[]\n",
    "        #self.y_=x[1]\n",
    "        \n",
    "        self.epochs=10000\n",
    "        #print([i for i in self.x])\n",
    "        #self.trial=int(np.floor((no_vector)*((i-self.min)/(self.min-self.max))))\n",
    "        self.mapping_x,self.dict_for_A_x=self.mapping_fn(self.gen_factor,0)#np.zeros((35,100))\n",
    "        self.mapping_y,self.dict_for_A_y=self.mapping_fn(self.gen_factor,1)#np.zeros((35,100))\n",
    "\n",
    "\n",
    "    def mapping_fn(self,gn,type_):\n",
    "        if type_==0:\n",
    "            iter_data=self.x\n",
    "            min_=self.min_x\n",
    "            max_=self.max_x\n",
    "            print('x')\n",
    "        elif type_==1:\n",
    "            print('y')\n",
    "            iter_data=self.y\n",
    "            min_=self.min_y\n",
    "            max_=self.max_y\n",
    "        dict_for_A={}\n",
    "        #print(iter_data.shape)\n",
    "        no_vector=self.weights_no-self.gen_factor+1\n",
    "        self.no_vector=no_vector\n",
    "        mapp=np.zeros((no_vector,self.weights_no))\n",
    "        print(max_)\n",
    "        for i in iter_data:\n",
    "            #print(i)\n",
    "            # if(i<self.min):\n",
    "            #     index=0\n",
    "            #     #index=(no_vector)*((i-self.min)/(self.min-self.max))\n",
    "            #     mapp[:,index:index+self.gen_factor]=1\n",
    "            #     #return mapp\n",
    "            # if(i>self.max):\n",
    "            #     index=34-self.gen_factor\n",
    "            #     #index=(no_vector)*((i-self.min)/(self.min-self.max))\n",
    "            #     #print('0')\n",
    "            #     mapp[:,index:index+self.gen_factor]=1\n",
    "            #     #return mapp\n",
    "            # else:\n",
    "                index=int(np.floor((no_vector)*((i-min_)/(max_-min_))))\n",
    "                #print(index)\n",
    "                dict_for_A[i]=index\n",
    "                mapp[index,index:index+self.gen_factor]=1\n",
    "        return mapp,dict_for_A\n",
    "    def predict(self,x_A,y_A):\n",
    "        self.x_A_trail=x_A\n",
    "        return x_A@self.weights_x+ y_A@self.weights_y\n",
    "    def predict_prev(self,x_A,):\n",
    "        self.x_A_trail=x_A\n",
    "        return x_A@self.weights_x\n",
    "    \n",
    "    def loss_fn(self,y_train,y_pred):\n",
    "        #print(y_train)\n",
    "        return (y_train- y_pred)\n",
    "    \n",
    "    def backprop(self,x,y,loss):\n",
    "        weights_x=self.weights_x.copy()\n",
    "        weights_y=self.weights_y.copy()\n",
    "        #self.trail_type=type(weights)\n",
    "        if len(weights_x.shape)==2:\n",
    "        \n",
    "            weights_x=np.reshape(weights_x,(weights_x.shape[0]))\n",
    "        if len(weights_y.shape)==2:\n",
    "        \n",
    "            weights_y=np.reshape(weights_y,(weights_y.shape[0]))\n",
    "        #print('shape_a_x- ',x.shape)\n",
    "        #print('shape_weights- ',weights.shape)\n",
    "        #self.weights_trial=weights*self.lr\n",
    "        \n",
    "        #self.trial_loss=loss \n",
    "        weights_x= weights_x+loss*weights_x*x*self.lr \n",
    "        weights_x=np.reshape(weights_x,self.weights_x.shape)\n",
    "        self.weights_x=weights_x\n",
    "        \n",
    "        weights_y= weights_y+loss*weights_y*y*self.lr \n",
    "        weights_y=np.reshape(weights_y,self.weights_y.shape)\n",
    "        self.weights_y=weights_y\n",
    "        \n",
    "        #return weights \n",
    "    \n",
    "    def val_step(self,x,y,p_y):\n",
    "        weights=self.weights_y\n",
    "        \n",
    "        y_pred=self.predict(x,p_y)\n",
    "        self.prev_op_for_ip=round(y_pred[0])\n",
    "        self.ypred_list.append(y_pred)\n",
    "        loss=self.loss_fn(y,y_pred)\n",
    "        self.total_loss+=loss\n",
    "    def train_step(self,x,y,p_y):\n",
    "        \n",
    "        weights=self.weights_x\n",
    "        y_pred=self.predict(x,p_y)\n",
    "        self.prev_op_for_ip=round(y_pred[0])\n",
    "        self.ypred_list.append(y_pred)\n",
    "        #print(y_pred)\n",
    "        loss=self.loss_fn(y,y_pred)\n",
    "        #self.total_loss+=loss\n",
    "        self.backprop(x,p_y,loss)\n",
    "    def fit(self):\n",
    "        self.total_prev_loss=self.total_loss\n",
    "        epochs=self.epochs\n",
    "        for e in range(epochs):\n",
    "            self.total_prev_loss=self.total_loss\n",
    "            self.total_loss=0\n",
    "            self.ypred_list=[]\n",
    "            for ip,op,yp in zip(data[0,:70],data[1,:70],data[2,:70]):\n",
    "                #print(np.round(ip-1,1))\n",
    "                x_train=self.dict_for_A_x[ip]\n",
    "                x_train=self.mapping_x[x_train,:]\n",
    "                if(ip-1)<0:\n",
    "                    ip=1\n",
    "                x_prev=self.dict_for_A_x[np.round(ip-1,1)]\n",
    "                x_prev=self.mapping_x[x_prev,:]\n",
    "                prev_yt=self.predict_prev(x_prev)\n",
    "                prev_yt=int(np.floor((self.no_vector)*((prev_yt-self.min_y)/(self.max_y-self.min_y))))\n",
    "                prev_yt=self.mapping_y[prev_yt,:]\n",
    "                y_train=op\n",
    "                self.train_step(x_train,y_train,prev_yt)\n",
    "                self.trial=x_train\n",
    "                #y_train=self.dict_for_A[op]\n",
    "                \n",
    "                #print(y_train)\n",
    "                #self.train_step(x_train,y_train,prev_yt)\n",
    "            for ip,op in zip(data[0,70:],data[1,70:]):\n",
    "                x_train=self.dict_for_A_x[ip]\n",
    "                x_train=self.mapping_x[x_train,:]\n",
    "                if(ip-1)<0:\n",
    "                    ip=1\n",
    "                x_prev=self.dict_for_A_x[np.round(ip-1,1)]\n",
    "                x_prev=self.mapping_x[x_prev,:]\n",
    "                prev_yt=self.predict_prev(x_prev)\n",
    "                prev_yt=int(np.floor((self.no_vector)*((prev_yt-self.min_y)/(self.max_y-self.min_y))))\n",
    "                prev_yt=self.mapping_y[prev_yt,:]\n",
    "                #y_train=self.dict_for_A[op]\n",
    "                y_train=op\n",
    "                self.val_step(x_train,y_train,prev_yt)\n",
    "            error=self.error(np.array(self.ypred_list_v),data[1,70:])\n",
    "            print('epoch:',e,' accuracy =',1-(error))     \n",
    "            if self.is_converged():\n",
    "                print('converge')\n",
    "                break\n",
    "    def is_converged(self):\n",
    "        if np.abs(self.total_prev_loss-self.total_loss)<0.00001:\n",
    "            return True \n",
    "        else:\n",
    "            return False\n",
    "        "
   ]
  },
  {
   "cell_type": "code",
   "execution_count": 110,
   "id": "cc77d1a8-10dd-4f71-919d-417048f799b3",
   "metadata": {
    "tags": []
   },
   "outputs": [
    {
     "name": "stdout",
     "output_type": "stream",
     "text": [
      "x\n",
      "10\n",
      "y\n",
      "100\n",
      "converge\n"
     ]
    }
   ],
   "source": [
    "model=Model(data)\n",
    "model.fit()\n",
    "#model.trial_loss\n",
    "#model.x[1]\n",
    "#model.mapping.shape\n",
    "#print(model.mapping)\n",
    "#data[0,:70]"
   ]
  },
  {
   "cell_type": "code",
   "execution_count": 111,
   "id": "fb52cb0e-e014-47ab-83e7-d2603135718b",
   "metadata": {},
   "outputs": [
    {
     "data": {
      "text/plain": [
       "(100,)"
      ]
     },
     "execution_count": 111,
     "metadata": {},
     "output_type": "execute_result"
    }
   ],
   "source": [
    "data[1].shape"
   ]
  },
  {
   "cell_type": "code",
   "execution_count": 112,
   "id": "c8da12a9-b8aa-4846-85c0-3f22efd8ddae",
   "metadata": {},
   "outputs": [
    {
     "data": {
      "text/plain": [
       "100"
      ]
     },
     "execution_count": 112,
     "metadata": {},
     "output_type": "execute_result"
    }
   ],
   "source": [
    "len(model.ypred_list)"
   ]
  },
  {
   "cell_type": "code",
   "execution_count": 113,
   "id": "2dce61a1-fbe9-4fd9-8c47-22a8d92e77e7",
   "metadata": {},
   "outputs": [],
   "source": [
    "x1=np.array(model.ypred_list).reshape(100)\n",
    "data_pred=np.vstack([data[0],x1])\n",
    "\n",
    "data1=data_pred.copy().T\n",
    "data1=data1[(data1[:,0]).argsort()]\n",
    "data1=data1.T"
   ]
  },
  {
   "cell_type": "code",
   "execution_count": 114,
   "id": "f87bf151-e0c3-4270-8aac-93b6eae1ddae",
   "metadata": {},
   "outputs": [
    {
     "data": {
      "text/plain": [
       "(2, 100)"
      ]
     },
     "execution_count": 114,
     "metadata": {},
     "output_type": "execute_result"
    }
   ],
   "source": [
    "data1.shape"
   ]
  },
  {
   "cell_type": "code",
   "execution_count": 119,
   "id": "b781516b-4d1a-4f7b-be48-7c4087f1e962",
   "metadata": {},
   "outputs": [
    {
     "data": {
      "text/plain": [
       "[<matplotlib.lines.Line2D at 0x7fbf37c09a60>]"
      ]
     },
     "execution_count": 119,
     "metadata": {},
     "output_type": "execute_result"
    },
    {
     "data": {
      "image/png": "[encoded data removed]",
      "text/plain": [
       "<Figure size 432x288 with 1 Axes>"
      ]
     },
     "metadata": {
      "needs_background": "light"
     },
     "output_type": "display_data"
    }
   ],
   "source": [
    "plt.plot(data1[0],data1[1])"
   ]
  },
  {
   "cell_type": "code",
   "execution_count": 117,
   "id": "7ae390fb-d16f-4971-bdaa-ae0cb00fbc4b",
   "metadata": {},
   "outputs": [
    {
     "data": {
      "text/plain": [
       "[<matplotlib.lines.Line2D at 0x7fbf37ccaca0>]"
      ]
     },
     "execution_count": 117,
     "metadata": {},
     "output_type": "execute_result"
    },
    {
     "data": {
      "image/png": "[encoded data removed]",
      "text/plain": [
       "<Figure size 432x288 with 1 Axes>"
      ]
     },
     "metadata": {
      "needs_background": "light"
     },
     "output_type": "display_data"
    }
   ],
   "source": [
    "data_pred=np.vstack([data[0],x])\n",
    "\n",
    "datat=data.copy().T\n",
    "datat=datat[(datat[:,0]).argsort()]\n",
    "datat=datat.T\n",
    "plt.plot(datat[0],datat[1])"
   ]
  },
  {
   "cell_type": "code",
   "execution_count": 125,
   "id": "f646e650-2cad-4905-b911-47dede13014f",
   "metadata": {},
   "outputs": [
    {
     "data": {
      "text/plain": [
       "<matplotlib.legend.Legend at 0x7fbf37b667f0>"
      ]
     },
     "execution_count": 125,
     "metadata": {},
     "output_type": "execute_result"
    },
    {
     "data": {
      "image/png": "[encoded data removed]",
      "text/plain": [
       "<Figure size 432x288 with 1 Axes>"
      ]
     },
     "metadata": {
      "needs_background": "light"
     },
     "output_type": "display_data"
    }
   ],
   "source": [
    "#plt.plot(x,y,label='Dataset')\n",
    "plt.plot(data1[0],data1[1],label='Reccurent_CMSC')\n",
    "plt.legend()"
   ]
  },
  {
   "cell_type": "code",
   "execution_count": 455,
   "id": "97070a24-530e-40e1-b838-d7630ddc3ea9",
   "metadata": {},
   "outputs": [],
   "source": [
    "min_=0\n",
    "max_=99\n",
    "no_vector=7\n",
    "index=int(np.floor((no_vector)*((i-min_)/(min_-max_))))"
   ]
  },
  {
   "cell_type": "code",
   "execution_count": 375,
   "id": "23b85c10-020d-4730-82e2-ebdfb84a86ee",
   "metadata": {},
   "outputs": [
    {
     "data": {
      "text/plain": [
       "{0: 1, 1: 2}"
      ]
     },
     "execution_count": 375,
     "metadata": {},
     "output_type": "execute_result"
    }
   ],
   "source": [
    "zss={}\n",
    "zss[0]=1\n",
    "zss[1]=2\n",
    "zss"
   ]
  },
  {
   "cell_type": "code",
   "execution_count": 199,
   "id": "c427bdaa-d6cd-4a8e-8965-a6ab4961cf43",
   "metadata": {},
   "outputs": [],
   "source": [
    "x[0]=1\n",
    "#z[1]=1\n",
    "#y[2]=1\n",
    "data1=data.copy().T\n",
    "data1=data1[(data1[:,1]).argsort()]\n",
    "data1=data.T"
   ]
  },
  {
   "cell_type": "code",
   "execution_count": 200,
   "id": "dfed25c2-0db3-4463-821c-5e91c8efbf5c",
   "metadata": {},
   "outputs": [],
   "source": [
    "arr = np.array([[-0.30565392, -0.96605562],\n",
    "                [ 0.85331367, -2.62963495],\n",
    "                [ 0.87839643, -0.28283675],\n",
    "                [ 0.72676698,  0.93213482],\n",
    "                [-0.52007354,  0.27752806],\n",
    "                [-0.08701666,  0.22764316],\n",
    "                [-1.78897817,  0.50737573],\n",
    "                [ 0.62260038, -1.96012161],\n",
    "                [-1.98231706,  0.36523876],\n",
    "                [-1.07587382, -2.3022289 ]])"
   ]
  },
  {
   "cell_type": "code",
   "execution_count": 324,
   "id": "a76703ae-4497-418e-9327-70b34d1f3b08",
   "metadata": {},
   "outputs": [
    {
     "data": {
      "text/plain": [
       "array([[94, 88,  8, 91, 36, 37, 93, 33, 53, 59, 82, 12, 76, 50,  1, 34,\n",
       "        23, 18, 86, 40, 27, 65, 51, 19, 89, 41, 96,  3, 14, 55, 16,  2,\n",
       "        83, 77, 70, 43, 71, 21, 28, 25, 85,  9, 97, 75, 80, 87, 32, 17,\n",
       "        26, 69, 57, 38, 11, 29, 56, 47, 49, 81, 98, 42, 78, 31, 73, 45,\n",
       "        46, 54, 66,  7, 67, 15, 13, 90, 30, 61,  5, 24, 68, 92, 84,  0,\n",
       "        52, 64, 35, 44, 39, 62, 58, 74, 95, 60, 99, 20, 48,  6, 63, 22,\n",
       "        10,  4, 72, 79]])"
      ]
     },
     "execution_count": 324,
     "metadata": {},
     "output_type": "execute_result"
    }
   ],
   "source": [
    "data[0].reshape((1,len(data[0])))"
   ]
  },
  {
   "cell_type": "code",
   "execution_count": 521,
   "id": "13e432d5-1333-4a3d-a4c4-6fdea7910894",
   "metadata": {},
   "outputs": [
    {
     "data": {
      "text/plain": [
       "(3,)"
      ]
     },
     "execution_count": 521,
     "metadata": {},
     "output_type": "execute_result"
    }
   ],
   "source": [
    "y=np.ones(3)\n",
    "x=np.zeros(3)\n",
    "x[2]=1\n",
    "y.shape"
   ]
  },
  {
   "cell_type": "code",
   "execution_count": 520,
   "id": "47941f15-b79a-42e1-8377-831f7b7bc47a",
   "metadata": {},
   "outputs": [
    {
     "data": {
      "text/plain": [
       "array([0., 0., 1.])"
      ]
     },
     "execution_count": 520,
     "metadata": {},
     "output_type": "execute_result"
    }
   ],
   "source": [
    "y*x"
   ]
  },
  {
   "cell_type": "code",
   "execution_count": 105,
   "id": "19618c45-5ba9-41a1-86a0-616e7a5e1a9c",
   "metadata": {},
   "outputs": [
    {
     "data": {
      "text/plain": [
       "2"
      ]
     },
     "execution_count": 105,
     "metadata": {},
     "output_type": "execute_result"
    }
   ],
   "source": [
    "len(x.shape)"
   ]
  },
  {
   "cell_type": "code",
   "execution_count": 106,
   "id": "c26c9c5b-2502-4405-8c7c-217caf9dcdfe",
   "metadata": {},
   "outputs": [],
   "source": [
    "mapping=np.zeros((35,100))"
   ]
  },
  {
   "cell_type": "code",
   "execution_count": 108,
   "id": "2824d9af-80d0-409c-8699-9b62e1220ee7",
   "metadata": {},
   "outputs": [
    {
     "data": {
      "text/plain": [
       "(35, 100)"
      ]
     },
     "execution_count": 108,
     "metadata": {},
     "output_type": "execute_result"
    }
   ],
   "source": [
    "mapping.shape"
   ]
  },
  {
   "cell_type": "code",
   "execution_count": 110,
   "id": "1e74e04b-f837-4e05-994a-23ff011b392e",
   "metadata": {},
   "outputs": [
    {
     "data": {
      "text/plain": [
       "(35,)"
      ]
     },
     "execution_count": 110,
     "metadata": {},
     "output_type": "execute_result"
    }
   ],
   "source": [
    "mapping[:,0].shape"
   ]
  },
  {
   "cell_type": "code",
   "execution_count": 460,
   "id": "dd559bb0-3647-478f-8f65-ed341877c6a6",
   "metadata": {},
   "outputs": [],
   "source": [
    "   index=int(np.floor((no_vector)*((i-self.min)/(self.min-self.max))))\n",
    "                self.dict_for_A[i]=index\n",
    "                mapp[index,index:index+self.gen_factor]=1\n",
    "no_vec=7-3+1\n",
    "mapp=np.zeros((5,7))\n",
    "for i in range(0,10):\n",
    "\n",
    "    index=int(np.floor((no_vec)*((i)/(10))))\n",
    "    mapp[index,index:index+3]=1"
   ]
  },
  {
   "cell_type": "code",
   "execution_count": 461,
   "id": "b4d270e4-69b5-495c-bdb7-f84b95f9cef0",
   "metadata": {},
   "outputs": [
    {
     "data": {
      "text/plain": [
       "array([[1., 1., 1., 0., 0., 0., 0.],\n",
       "       [0., 1., 1., 1., 0., 0., 0.],\n",
       "       [0., 0., 1., 1., 1., 0., 0.],\n",
       "       [0., 0., 0., 1., 1., 1., 0.],\n",
       "       [0., 0., 0., 0., 1., 1., 1.]])"
      ]
     },
     "execution_count": 461,
     "metadata": {},
     "output_type": "execute_result"
    }
   ],
   "source": [
    "mapp"
   ]
  },
  {
   "cell_type": "code",
   "execution_count": 180,
   "id": "1a425ee1-367a-415d-be53-b59498cc1b82",
   "metadata": {},
   "outputs": [
    {
     "name": "stdout",
     "output_type": "stream",
     "text": [
      "28 784\n",
      "20 400\n",
      "38 1444\n",
      "85 7225\n",
      "74 5476\n",
      "96 9216\n",
      "59 3481\n",
      "60 3600\n",
      "13 169\n",
      "1 1\n",
      "37 1369\n",
      "36 1296\n",
      "67 4489\n",
      "53 2809\n",
      "98 9604\n",
      "29 841\n",
      "30 900\n",
      "18 324\n",
      "72 5184\n",
      "55 3025\n",
      "66 4356\n",
      "41 1681\n",
      "81 6561\n",
      "52 2704\n",
      "17 289\n",
      "87 7569\n",
      "56 3136\n",
      "40 1600\n",
      "62 3844\n",
      "44 1936\n",
      "80 6400\n",
      "3 9\n",
      "34 1156\n",
      "50 2500\n",
      "22 484\n",
      "43 1849\n",
      "31 961\n",
      "46 2116\n",
      "86 7396\n",
      "45 2025\n",
      "16 256\n",
      "90 8100\n",
      "70 4900\n",
      "82 6724\n",
      "7 49\n",
      "88 7744\n",
      "6 36\n",
      "91 8281\n",
      "64 4096\n",
      "61 3721\n",
      "77 5929\n",
      "26 676\n",
      "97 9409\n",
      "83 6889\n",
      "58 3364\n",
      "54 2916\n",
      "99 9801\n",
      "2 4\n",
      "51 2601\n",
      "9 81\n",
      "0 0\n",
      "79 6241\n",
      "42 1764\n",
      "14 196\n",
      "39 1521\n",
      "33 1089\n",
      "5 25\n",
      "21 441\n",
      "12 144\n",
      "23 529\n",
      "65 4225\n",
      "92 8464\n",
      "68 4624\n",
      "89 7921\n",
      "69 4761\n",
      "49 2401\n",
      "27 729\n",
      "78 6084\n",
      "11 121\n",
      "10 100\n",
      "47 2209\n",
      "57 3249\n",
      "75 5625\n",
      "93 8649\n",
      "4 16\n",
      "8 64\n",
      "95 9025\n",
      "71 5041\n",
      "19 361\n",
      "48 2304\n",
      "63 3969\n",
      "73 5329\n",
      "24 576\n",
      "25 625\n",
      "84 7056\n",
      "32 1024\n",
      "94 8836\n",
      "35 1225\n",
      "15 225\n",
      "76 5776\n"
     ]
    }
   ],
   "source": [
    "for i,j in zip(data[0],data[1]):\n",
    "    print(i,j)"
   ]
  },
  {
   "cell_type": "code",
   "execution_count": 176,
   "id": "b8ee1186-a433-4b5d-8c56-3b7fa34e141a",
   "metadata": {},
   "outputs": [
    {
     "data": {
      "text/plain": [
       "array([[  28,   20,   38,   85,   74,   96,   59,   60,   13,    1,   37,\n",
       "          36,   67,   53,   98,   29,   30,   18,   72,   55,   66,   41,\n",
       "          81,   52,   17,   87,   56,   40,   62,   44,   80,    3,   34,\n",
       "          50,   22,   43,   31,   46,   86,   45,   16,   90,   70,   82,\n",
       "           7,   88,    6,   91,   64,   61,   77,   26,   97,   83,   58,\n",
       "          54,   99,    2,   51,    9,    0,   79,   42,   14,   39,   33,\n",
       "           5,   21,   12,   23,   65,   92,   68,   89,   69,   49,   27,\n",
       "          78,   11,   10,   47,   57,   75,   93,    4,    8,   95,   71,\n",
       "          19,   48,   63,   73,   24,   25,   84,   32,   94,   35,   15,\n",
       "          76],\n",
       "       [ 784,  400, 1444, 7225, 5476, 9216, 3481, 3600,  169,    1, 1369,\n",
       "        1296, 4489, 2809, 9604,  841,  900,  324, 5184, 3025, 4356, 1681,\n",
       "        6561, 2704,  289, 7569, 3136, 1600, 3844, 1936, 6400,    9, 1156,\n",
       "        2500,  484, 1849,  961, 2116, 7396, 2025,  256, 8100, 4900, 6724,\n",
       "          49, 7744,   36, 8281, 4096, 3721, 5929,  676, 9409, 6889, 3364,\n",
       "        2916, 9801,    4, 2601,   81,    0, 6241, 1764,  196, 1521, 1089,\n",
       "          25,  441,  144,  529, 4225, 8464, 4624, 7921, 4761, 2401,  729,\n",
       "        6084,  121,  100, 2209, 3249, 5625, 8649,   16,   64, 9025, 5041,\n",
       "         361, 2304, 3969, 5329,  576,  625, 7056, 1024, 8836, 1225,  225,\n",
       "        5776]])"
      ]
     },
     "execution_count": 176,
     "metadata": {},
     "output_type": "execute_result"
    }
   ],
   "source": [
    "data"
   ]
  },
  {
   "cell_type": "code",
   "execution_count": null,
   "id": "798470c9-61d9-4db7-b4f2-a349f129a637",
   "metadata": {},
   "outputs": [],
   "source": []
  }
 ],
 "metadata": {
  "kernelspec": {
   "display_name": "Python 3 (ipykernel)",
   "language": "python",
   "name": "python3"
  },
  "language_info": {
   "codemirror_mode": {
    "name": "ipython",
    "version": 3
   },
   "file_extension": ".py",
   "mimetype": "text/x-python",
   "name": "python",
   "nbconvert_exporter": "python",
   "pygments_lexer": "ipython3",
   "version": "3.8.10"
  }
 },
 "nbformat": 4,
 "nbformat_minor": 5
}
